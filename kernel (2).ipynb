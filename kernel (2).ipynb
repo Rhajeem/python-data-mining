{
  "cells": [
    {
      "metadata": {
        "_uuid": "8f2839f25d086af736a60e9eeb907d3b93b6e0e5",
        "_cell_guid": "b1076dfc-b9ad-4769-8c92-a6c4dae69d19",
        "trusted": true
      },
      "cell_type": "code",
      "source": "import re\nimport numpy as np\nimport pandas as pd\nimport seaborn as sns\nimport statsmodels.api as sm\nfrom scipy.sparse import hstack\nimport matplotlib.pyplot as plt\nfrom scipy.stats import pearsonr\nfrom nltk.corpus import stopwords\nfrom sklearn.svm import LinearSVC\nfrom nltk.stem.porter import PorterStemmer\nfrom sklearn import metrics, svm\nfrom sklearn.linear_model import LogisticRegression\nfrom sklearn import preprocessing\nfrom sklearn import utils\nfrom sklearn.svm import SVR\n#from sklearn import svm\nfrom sklearn.metrics import accuracy_score\nfrom sklearn.metrics import confusion_matrix\nfrom sklearn.linear_model import LogisticRegression\nfrom sklearn.model_selection import train_test_split\nfrom sklearn.feature_extraction.text import CountVectorizer \nfrom sklearn.feature_extraction.text import TfidfVectorizer\n",
      "execution_count": null,
      "outputs": []
    },
    {
      "metadata": {
        "_cell_guid": "79c7e3d0-c299-4dcb-8224-4455121ee9b0",
        "_uuid": "d629ff2d2480ee46fbb7e2d37f6b5fab8052498a",
        "trusted": true,
        "scrolled": false
      },
      "cell_type": "code",
      "source": "pd.options.mode.chained_assignment = None \ndf = pd.read_csv(\"../input/winemag-data_first150k.csv\", nrows=50000,index_col=0)\ndf.head()",
      "execution_count": null,
      "outputs": []
    },
    {
      "metadata": {
        "_uuid": "8557035e33c61e621bcc50c8a69776f4dae0b12b"
      },
      "cell_type": "markdown",
      "source": "## Data Cleaning\n* Dropping unwanted columns\n* Removing Duplicate records\n* Removing Duplicate Descriptions\n* Filling in missing values \n* Dropping rows with null data"
    },
    {
      "metadata": {
        "trusted": true,
        "_uuid": "dbfedc19d6268d38f40e9f842cf8f49ed1bb7455"
      },
      "cell_type": "code",
      "source": "#drop columns not needed\ndf = df.drop(['designation','province','region_1','region_2','winery'], axis = 1)\n\n#We will now test for duplictes in the dataset to ensure that we are using unique reviews\ndf[df.duplicated('description',keep=False)].head()\n\n#We will now remove the dulicates based on the descripton column \ndf = df.drop_duplicates('description')\ndf.head()",
      "execution_count": null,
      "outputs": []
    },
    {
      "metadata": {
        "trusted": true,
        "_uuid": "aab582114a36eb8ce96072e9755d156f80d5fc93"
      },
      "cell_type": "code",
      "source": "#Return a sum count of rows with missing data\ndf.apply(lambda x: sum(x.isnull()),axis=0) ",
      "execution_count": null,
      "outputs": []
    },
    {
      "metadata": {
        "trusted": true,
        "_uuid": "3baeaf4bc96bf355060cae97676e3c92f8309adf"
      },
      "cell_type": "code",
      "source": "#fill in missing price with mean values\ndf['price'].fillna(df['price'].mean(), inplace=True)\n\n#Return a sum count of rows with missing data\ndf.apply(lambda x: sum(x.isnull()),axis=0) ",
      "execution_count": null,
      "outputs": []
    },
    {
      "metadata": {
        "trusted": true,
        "scrolled": true,
        "_uuid": "d65bef19b433c836e43f6a5fdca8b22c8eda8215"
      },
      "cell_type": "code",
      "source": " #Drop rows with missing/invalid data\ndf.dropna(axis='rows',inplace=True)\n\n#Return a sum count of rows with missing data\ndf.apply(lambda x: sum(x.isnull()),axis=0) ",
      "execution_count": null,
      "outputs": []
    },
    {
      "metadata": {
        "_uuid": "b7646372afd281cdf1c46ff6753bcb779438fb01"
      },
      "cell_type": "markdown",
      "source": "## Cleaning Description\n* Remove symbols and digits\n* Change all words to lowercase and remove trailing whitespaces\n* Remove stop words\n* Stemming words"
    },
    {
      "metadata": {
        "trusted": true,
        "_uuid": "82b143c0d5cc04ab77c87dbb2972b265b14eeddc"
      },
      "cell_type": "code",
      "source": "df['description'][0]",
      "execution_count": null,
      "outputs": []
    },
    {
      "metadata": {
        "trusted": true,
        "_uuid": "7ede8b1d9229eb32103521e08db13e139d5de840"
      },
      "cell_type": "code",
      "source": "#Get rid of the less useful parts like symbols and digits\ndescription =  re.sub('[^a-zA-Z]',' ',df['description'][0])\ndescription",
      "execution_count": null,
      "outputs": []
    },
    {
      "metadata": {
        "trusted": true,
        "scrolled": true,
        "_uuid": "15fa1ef9142672ef818f64b3dacfc128dfc492fd"
      },
      "cell_type": "code",
      "source": "#All the words should be in same case so lowercase the words and remove trailing whitespaces\ndescription = description.lower().strip()\ndescription",
      "execution_count": null,
      "outputs": []
    },
    {
      "metadata": {
        "_uuid": "e20a4dbe7ab8e0ebf8d0e64ccd85c8fc221cf74f"
      },
      "cell_type": "markdown",
      "source": "### Drop the stopwords\n\nThe next step is to to remove the **stop words**. Stop words are irrelevant as they occur frequently in the data example 'a', 'the','is','in' etc. In order to save both space and time, these words are dropped ."
    },
    {
      "metadata": {
        "trusted": true,
        "scrolled": true,
        "_uuid": "5553398931f83f6acf95556dfbe16ba7ac45c9c7"
      },
      "cell_type": "code",
      "source": "#convert string to a list of words\ndescription_words = description.split() \n\n#iterate over each word and include it if it is not stopword \ndescription_words = [word for word in description_words if not word in stopwords.words('english')]\ndescription_words",
      "execution_count": null,
      "outputs": []
    },
    {
      "metadata": {
        "_uuid": "1e2978b3788a489386a74d2cc01f337760a94390"
      },
      "cell_type": "markdown",
      "source": "### Stemming words\n\nStemming reduce each word to its root form in order to remove the differences between inflected forms of a word. Example: \"running\", \"runs\", \"runned\" become \"run\""
    },
    {
      "metadata": {
        "trusted": true,
        "_uuid": "7ca7e0b53555de188e37f04b8b31e0d501983e9b"
      },
      "cell_type": "code",
      "source": "ps = PorterStemmer()\ndescription_words=[ps.stem(word) for word in description_words]\ndescription_words",
      "execution_count": null,
      "outputs": []
    },
    {
      "metadata": {
        "trusted": true,
        "_uuid": "5d352378783791e7d86185fd053dc2d37b071dc9",
        "scrolled": true
      },
      "cell_type": "code",
      "source": "#Now the description is clean the cleaned list of words can be converted to string and pushed to the dataset\ndf['description'][0]=' '.join(description_words)\ndf['description'][0]",
      "execution_count": null,
      "outputs": []
    },
    {
      "metadata": {
        "trusted": true,
        "_uuid": "b01eff4af8f3157a1ec874009cb38cda0e5f99f0"
      },
      "cell_type": "code",
      "source": "#Now to clean other rows too one can iterate over all rows of the dataset and clean each\nstopword_list = stopwords.words('english')\nps = PorterStemmer()\nfor i in range(1,len(df['description'])):\n    try:\n        description = re.sub('[^a-zA-Z]',' ',df['description'][i])\n        description = description.lower().strip()\n        description_words = description.split()\n        description_words = [word for word in description_words if not word in stopword_list]\n        description_words = [ps.stem(word) for word in description_words]\n        df['description'][i] = ' '.join(description_words)\n    except:\n        pass",
      "execution_count": null,
      "outputs": []
    },
    {
      "metadata": {
        "trusted": true,
        "_uuid": "dec8ea70fa2a19e020d6771ac0dfaa301a22414c"
      },
      "cell_type": "code",
      "source": "#Displaying all the descriptions after cleaning\nfor i in range(len(df['description'])):\n    try:\n        print(str(i+1)+\".\",df['description'][i],\"\\n\")\n    except:\n        pass",
      "execution_count": null,
      "outputs": []
    },
    {
      "metadata": {
        "trusted": true,
        "scrolled": true,
        "_uuid": "3f58701671a80973492dbd7b2648cba045b137b0"
      },
      "cell_type": "code",
      "source": "#We will test for a correlation between the price of wine and its rating\nprint(\"Pearson Correlation:\", pearsonr(df.price, df.points))\nprint(sm.OLS(df.points, df.price).fit().summary())\nsns.lmplot(y = 'price', x='points', data=df)",
      "execution_count": null,
      "outputs": []
    },
    {
      "metadata": {
        "_uuid": "9883eb172b9d75f4cf5fcff62f87923df1282a6f"
      },
      "cell_type": "markdown",
      "source": "**We can see that for each point increase in rating the price goes up by an average of  $1.04. However there seems to be some odd points in the plot which may be due to low sample size of some countries****"
    },
    {
      "metadata": {
        "trusted": true,
        "_uuid": "4565db14e1e7ac4d66063f31f2b3206c2e4f5700"
      },
      "cell_type": "code",
      "source": "fig, ax = plt.subplots(figsize = (20,7))\nchart = sns.boxplot(x='country',y='points', data=df, ax = ax)\nplt.xticks(rotation = 90)\nplt.show()",
      "execution_count": null,
      "outputs": []
    },
    {
      "metadata": {
        "trusted": true,
        "scrolled": false,
        "_uuid": "ed4327b443950265808f87d3d3c3875e5e9a20e7"
      },
      "cell_type": "code",
      "source": "df.country.value_counts()",
      "execution_count": null,
      "outputs": []
    },
    {
      "metadata": {
        "_uuid": "f054bdfc60be6ae570c739a7a2c3edff51853520"
      },
      "cell_type": "markdown",
      "source": "**We will now remove the countries that have less than 100 observations**"
    },
    {
      "metadata": {
        "trusted": true,
        "_uuid": "5c0e7fe7e9c9b077a6e625388114301db5576af2",
        "scrolled": true
      },
      "cell_type": "code",
      "source": "country=df.groupby('country').filter(lambda x: len(x) >100)\ndf1 = pd.DataFrame({col:vals['points'] for col,vals in country.groupby('country')})\nmeds = df1.median()\nmeds.sort_values(ascending=False, inplace=True)\n\nfig, ax = plt.subplots(figsize = (20,7))\nchart = sns.boxplot(x='country',y='points', data=country, order=meds.index, ax = ax)\nplt.xticks(rotation = 90)\n\nplt.show()",
      "execution_count": null,
      "outputs": []
    },
    {
      "metadata": {
        "_uuid": "0ac50483d1dc76b27b1c7ac0a717ccae1ce3da8f"
      },
      "cell_type": "markdown",
      "source": "**We will now find the average wine price by using the median from highest to lowest to test for any price distortions due to outliers**"
    },
    {
      "metadata": {
        "trusted": true,
        "_uuid": "260a19ec9a84ee0a8b71c1d753148573b2c69253"
      },
      "cell_type": "code",
      "source": "df2 = pd.DataFrame({col:vals['price'] for col,vals in country.groupby('country')})\nmeds2 = df2.median()\nmeds2 = meds2.sort_values(ascending=False)\n\nplt.rcParams['figure.figsize']=15,8 \nmeds2.plot(\"bar\")\nplt.title('Bar Chart Showing Median Wine Prices from Highest to Lowest')\nplt.xlabel('Country')\nplt.ylabel('Median Wine Price')\nplt.show()",
      "execution_count": null,
      "outputs": []
    },
    {
      "metadata": {
        "trusted": true,
        "_uuid": "d0eacf1196a513c5152d8cc38627ecde3617460a"
      },
      "cell_type": "code",
      "source": "#Medians for the above Barplot\nprint(meds2)",
      "execution_count": null,
      "outputs": []
    },
    {
      "metadata": {
        "_uuid": "9c1c53ed8e436501c7e0f23199a3dd6667df3a09"
      },
      "cell_type": "markdown",
      "source": "**There's a large variety of wines in the dataset. However, there's an exponential decline in the number of observations for each wine type so we'll be dropping any wine types with less than 200 observations, for the reason that there's not enough data in these buckets to generate an accuarte model for predicting their respective wine type**"
    },
    {
      "metadata": {
        "trusted": true,
        "_uuid": "808d373044c139bc7acc9e124bad3db31b1a6179"
      },
      "cell_type": "code",
      "source": "df = df.groupby('variety').filter(lambda x: len(x) >100)\nlist = df.variety.value_counts().index.tolist()\nfig4, ax4 = plt.subplots(figsize = (20,7))\nsns.countplot(x='variety', data=df, order = list, ax=ax4)\nplt.xticks(rotation = 90)\nplt.show()",
      "execution_count": null,
      "outputs": []
    },
    {
      "metadata": {
        "trusted": true,
        "_uuid": "2f65ac08a2336b4c9732a51e27a7cc7bad85c21b",
        "scrolled": false
      },
      "cell_type": "code",
      "source": "df = df.groupby('variety').filter(lambda x: len(x) >200)\n\ndf3 = pd.DataFrame({col:vals['points'] for col,vals in df.groupby('variety')})\nmeds3 = df3.median()\nmeds3.sort_values(ascending=False, inplace=True)\n\nfig3, ax3 = plt.subplots(figsize = (20,7))\nchart = sns.boxplot(x='variety',y='points', data=df, order=meds3.index, ax = ax3)\nplt.xticks(rotation = 90)\nplt.show()",
      "execution_count": null,
      "outputs": []
    },
    {
      "metadata": {
        "trusted": true,
        "_uuid": "9f339ea1c391f4a251b9f970db6d4eac12635b81"
      },
      "cell_type": "markdown",
      "source": "**Above is a countplot chart containing all wine varieties with more than 200 observations and their respective point distributions. Sangiovese Grosso appears to have the highest median score of all wines. **"
    },
    {
      "metadata": {
        "trusted": true,
        "_uuid": "7efec47361b83379cfdb145256791644f6740318"
      },
      "cell_type": "code",
      "source": "df4 = pd.DataFrame({col:vals['points'] for col,vals in df.groupby('variety')})\nmean1 = df4.mean()\nmean1 = mean1.sort_values(ascending=False)\n\nplt.rcParams['figure.figsize']=15,8 \nmean1.plot(\"bar\")\nplt.title('Bar Chart Showing Median Wine Prices from Highest to Lowest')\nplt.xlabel('Variety')\nplt.ylabel('Median Wine Price')\nplt.show()",
      "execution_count": null,
      "outputs": []
    },
    {
      "metadata": {
        "trusted": true,
        "_uuid": "aa734e843eac1d5728a20ced5fd0bdeb5d352c43"
      },
      "cell_type": "code",
      "source": "#Mean for the above Barplot\nprint(mean1)",
      "execution_count": null,
      "outputs": []
    },
    {
      "metadata": {
        "trusted": true,
        "_uuid": "d8df3727510bd0566f1be515d890bcc266d6ee29"
      },
      "cell_type": "code",
      "source": "#We will now test the variations in price\ndf5 = pd.DataFrame({col:vals['price'] for col,vals in df.groupby('variety')})\nmean2 = df5.mean()\nmean2.sort_values(ascending=False, inplace=True)\n\nfig3, ax3 = plt.subplots(figsize = (20,7))\nchart = sns.barplot(x='variety',y='price', data=df, order=mean2.index, ax = ax3)\nplt.xticks(rotation = 90)\nplt.show()",
      "execution_count": null,
      "outputs": []
    },
    {
      "metadata": {
        "_uuid": "fc8608635c3cf657ed31aea9416d5095a0b03591"
      },
      "cell_type": "markdown",
      "source": "**There's clear variation in price which may help in predicting the wine type.**"
    },
    {
      "metadata": {
        "_uuid": "bc0571a73b5d23fcbe16d090988c78361b5547a3"
      },
      "cell_type": "markdown",
      "source": "## LOGISTIC REGRESSION"
    },
    {
      "metadata": {
        "trusted": true,
        "scrolled": false,
        "_uuid": "1e833992779be3a0cb7ffa63149dd647244ad1f4"
      },
      "cell_type": "code",
      "source": "X = df.drop(['country','points', 'variety'], axis = 1)\ny = df.variety\n\nX_train, X_test, y_train, y_test = train_test_split(X, y, random_state=1)\nprint(X_train.shape, X_test.shape, y_train.shape, y_test.shape)",
      "execution_count": null,
      "outputs": []
    },
    {
      "metadata": {
        "_uuid": "c58168c7ee02d6bd677450770d039eba367e33f8"
      },
      "cell_type": "markdown",
      "source": "**There seems to be the label name in the description**\nIf you read the descriptions, the reviewers often times say \"Cabertnet\", \"Pinot\", \"Red\", etc. in the review itself, and these words need to be taken off if so as to create a model that doesn't rely on the probability that a word in the description that matches the label. I however included tokenized versions of the feature labels as parts of the stopwords used in analysis."
    },
    {
      "metadata": {
        "trusted": true,
        "scrolled": true,
        "_uuid": "73b7ba7f56c33b3d5fc8c87b187f63e4c80b0d4c"
      },
      "cell_type": "code",
      "source": "wine =df.variety.unique().tolist()\nwine.sort()\nwine",
      "execution_count": null,
      "outputs": []
    },
    {
      "metadata": {
        "trusted": true,
        "scrolled": true,
        "_uuid": "f891ccadcb8c5c92b5857c8181b83ddee45571ca"
      },
      "cell_type": "code",
      "source": "#Split wine varieties with space and make new list\noutput = set()\nfor x in df.variety:\n    x = x.lower()\n    x = x.split()\n    for y in x:\n        output.add(y)\n\nvariety_list =sorted(output)\nvariety_list",
      "execution_count": null,
      "outputs": []
    },
    {
      "metadata": {
        "_uuid": "2a2c8bff425ff0c590bfd7697b1151b4edd79240"
      },
      "cell_type": "markdown",
      "source": "**We will be using the wine price and description**"
    },
    {
      "metadata": {
        "trusted": true,
        "_uuid": "898939be7ba66041423397f4ce24230ff6d538d6"
      },
      "cell_type": "code",
      "source": "extras = ['',' ',\"\",\" \",'.', ',', '\"', \"'\", '?', '!', ':', ';', '(', ')', '[', ']', '{', '}', 'cab',\"%\"]\nfrom nltk.corpus import stopwords\nstop = set(stopwords.words('english'))\nstop.update(variety_list)\nstop.update(extras)",
      "execution_count": null,
      "outputs": []
    },
    {
      "metadata": {
        "trusted": true,
        "_uuid": "56b26d4e2a7d572e7d249b4ca4027f09e0254f46"
      },
      "cell_type": "code",
      "source": "vect = CountVectorizer(stop_words = stop)\nX_train_dtm = vect.fit_transform(X_train.description)\nprice = X_train.price.values[:,None]\nX_train_dtm = hstack((X_train_dtm, price))\n\nX_test_dtm = vect.transform(X_test.description)\nprice_test = X_test.price.values[:,None]\nX_test_dtm = hstack((X_test_dtm, price_test))\n# X_test_dtm",
      "execution_count": null,
      "outputs": []
    },
    {
      "metadata": {
        "trusted": true,
        "scrolled": true,
        "_uuid": "907d6065e7fa1c8b568462aea9036c2e2af9df0f"
      },
      "cell_type": "code",
      "source": "models = {}\nfor z in wine:\n    model = LogisticRegression()\n    y = y_train == z\n    model.fit(X_train_dtm, y)\n    models[z] = model\n\ntesting_probs = pd.DataFrame(columns = wine)",
      "execution_count": null,
      "outputs": []
    },
    {
      "metadata": {
        "_uuid": "c82cee3a877b4e1d4f375aaa29f3ed9868517cb6"
      },
      "cell_type": "markdown",
      "source": "**We will now test the accuracy of the model**"
    },
    {
      "metadata": {
        "trusted": true,
        "_uuid": "6682b3437bdcefdef9b9210b3283fbef4af12c3a",
        "scrolled": true
      },
      "cell_type": "code",
      "source": "for variety in wine:\n    testing_probs[variety] = models[variety].predict_proba(X_test_dtm)[:,1]\n    \npredicted_wine = testing_probs.idxmax(axis=1)\n\ncomparison = pd.DataFrame({'actual':y_test.values, 'predicted':predicted_wine.values})   \n# comparison = pd.DataFrame({'actual':'Malbec', 'predicted':predicted_wine.values})   \n\nprint('Accuracy Score:',accuracy_score(comparison.actual, comparison.predicted)*100,\"%\")\ncomparison",
      "execution_count": null,
      "outputs": []
    },
    {
      "metadata": {
        "_uuid": "04eeb0172d0dfd2fc942254e95788348fbe3dbee"
      },
      "cell_type": "markdown",
      "source": "**We can see here that the accuracy of the model is 58.97%. There is room for improvement in this case where if other featres were included then maybe the accuracy would go up **"
    },
    {
      "metadata": {
        "_uuid": "f651d3d9f6ea4fc3ec3266629022b5bae79bb5b3"
      },
      "cell_type": "markdown",
      "source": "## Support Vector Machine Algorithm"
    },
    {
      "metadata": {
        "trusted": true,
        "_uuid": "e2e75213126d403c3e94c786eeba376caa3b777a"
      },
      "cell_type": "code",
      "source": "filtered = df.groupby('variety').filter(lambda x: len(x) >= 500) #taking only the highest occuring to reduce size and keeping distribution in mind.",
      "execution_count": null,
      "outputs": []
    },
    {
      "metadata": {
        "trusted": true,
        "_uuid": "14f5d6a7c0e09dc5c18f012ae32daeed8c669de1",
        "scrolled": true
      },
      "cell_type": "code",
      "source": "#Making a new column that is encoded version of variety\nfiltered['variety_id'] = filtered['variety'].factorize()[0]\ncategory_id_df = filtered[['variety', 'variety_id']].drop_duplicates().sort_values('variety_id')\ncategory_to_id = dict(category_id_df.values)\nid_to_category = dict(category_id_df[['variety_id', 'variety']].values)\n\nfiltered.head()",
      "execution_count": null,
      "outputs": []
    },
    {
      "metadata": {
        "trusted": true,
        "_uuid": "edc35c11d819764cee9662b6491d789b2a254b37"
      },
      "cell_type": "code",
      "source": "tfidf = TfidfVectorizer(sublinear_tf=True, min_df=5, norm='l2', encoding='UTF-8', ngram_range=(1, 2), stop_words='english') \n\nfeatures = tfidf.fit_transform(filtered.description).toarray() #Removing Stop words from descriptions \nlabels = filtered.variety_id #Varity Numberical values saved as labels\n\nmodel = LinearSVC()\nX_train, X_test, y_train, y_test, indices_train, indices_test = train_test_split(features, labels, filtered.index, test_size=0.30, random_state=0) #70/30 Split\nmodel.fit(X_train, y_train)\ny_pred = model.predict(X_test)\n\nfrom sklearn.metrics import confusion_matrix\nconf_mat = confusion_matrix(y_test, y_pred)\nfig, ax = plt.subplots(figsize=(10,10))\nsns.heatmap(conf_mat, annot=True, fmt='d', xticklabels=category_id_df.variety.values, yticklabels=category_id_df.variety.values)\nplt.ylabel('Actual')\nplt.xlabel('Predicted')\nplt.show()",
      "execution_count": null,
      "outputs": []
    },
    {
      "metadata": {
        "trusted": true,
        "_uuid": "c4f626cb4c014922c22139db55ab2615a05ff92c"
      },
      "cell_type": "code",
      "source": "X = df.drop('country', axis=1)  \ny = df['points']\n",
      "execution_count": null,
      "outputs": []
    },
    {
      "metadata": {
        "trusted": true,
        "_uuid": "9c2f257d7855584f612975ace33cac29a246ffe0"
      },
      "cell_type": "code",
      "source": "X = category_id_df.drop('variety_id', axis=1)  \ny = category_id_df['variety_id'] \ncategory_id_df.head()",
      "execution_count": null,
      "outputs": []
    },
    {
      "metadata": {
        "trusted": true,
        "_uuid": "a94468649a04211d4d6b9e5bd6b040503ab2a494"
      },
      "cell_type": "code",
      "source": "#Droping the duplicates\ndf[df.duplicated('description',keep=False)].sort_values('description').head(5)\n",
      "execution_count": null,
      "outputs": []
    },
    {
      "metadata": {
        "trusted": true,
        "_uuid": "9a27504dc3376f5473563e670bf10b09ff8c72c3"
      },
      "cell_type": "code",
      "source": "df.head()",
      "execution_count": null,
      "outputs": []
    },
    {
      "metadata": {
        "trusted": true,
        "_uuid": "c47655b651411b21774b10f7f8c0bcabcd0ab4c8"
      },
      "cell_type": "code",
      "source": "#Dropping all duplicated based and description and missing prices\n\ndf = df.drop_duplicates('description')\ndf = df[pd.notnull(df.price)]\ndf.shape",
      "execution_count": null,
      "outputs": []
    },
    {
      "metadata": {
        "trusted": true,
        "_uuid": "cd0dff04980fd7251b76f0875acc2a74a4610bda"
      },
      "cell_type": "code",
      "source": "from scipy.stats import pearsonr\nimport statsmodels.api as sm\nprint(\"Pearson Correlation:\", pearsonr(df.price, df.points))\nprint(sm.OLS(df.points, df.price).fit().summary())\nsns.lmplot(y = 'price', x='points', data=df)",
      "execution_count": null,
      "outputs": []
    },
    {
      "metadata": {
        "_uuid": "ab8526ffee2012f5d9d120adcd64d67feb91e1a3"
      },
      "cell_type": "markdown",
      "source": "**We can see that there a significant correlation between the cost and ratings of the wine of an average of  $1.04 for each point increase**"
    },
    {
      "metadata": {
        "trusted": true,
        "_uuid": "d53c9b9dedba9f74d2bce1bac39801a13661fd00"
      },
      "cell_type": "code",
      "source": "fig, ax = plt.subplots(figsize = (10,7))\nchart = sns.boxplot(x='country',y='points', data=df, ax = ax)\nplt.xticks(rotation = 90)\nplt.show()",
      "execution_count": null,
      "outputs": []
    },
    {
      "metadata": {
        "_uuid": "5d0469ad47bc94125bb9d4e8c47b71ebcfcf571e"
      },
      "cell_type": "markdown",
      "source": "**We can also see that there are odd plots as a result of low sample size per country**"
    },
    {
      "metadata": {
        "trusted": true,
        "_uuid": "87d7a8c8ad8b50ab913e69f04c94747fc4059d30"
      },
      "cell_type": "code",
      "source": "df.country.value_counts()[:]",
      "execution_count": null,
      "outputs": []
    },
    {
      "metadata": {
        "_uuid": "2ec2e22db705df6c1a543330e5d0f326bbcace56"
      },
      "cell_type": "markdown",
      "source": "**We will now find sort the prices from highest to lowest to identify distortion**"
    },
    {
      "metadata": {
        "trusted": true,
        "_uuid": "9dafbb8575cd320e260467a6b1103db8429fa984"
      },
      "cell_type": "code",
      "source": "df6 = pd.DataFrame({col:vals['price'] for col,vals in country.groupby('country')})\nmeds2 = df6.median()\nmeds2.sort_values(ascending=False, inplace=True)\n\nfig, ax = plt.subplots(figsize = (20,5))\nchart = sns.barplot(x='country',y='price', data=country, order=meds2.index, ax = ax)\nplt.xticks(rotation = 90)\nplt.show()",
      "execution_count": null,
      "outputs": []
    },
    {
      "metadata": {
        "trusted": true,
        "_uuid": "1f4ee4d69c56426223eae5cf42a7f01c101939a9"
      },
      "cell_type": "code",
      "source": "df = df.reset_index()",
      "execution_count": null,
      "outputs": []
    },
    {
      "metadata": {
        "trusted": true,
        "_uuid": "306f9460ad216e2d14acaa522405aa6f581b8b4d",
        "scrolled": true
      },
      "cell_type": "code",
      "source": "X = df.drop(['country','description','variety'], axis = 1)\ny = df.price\n\nX_train, X_test, y_train, y_test = train_test_split(X, y, random_state=1)\nprint(X_train.shape, X_test.shape, y_train.shape, y_test.shape)",
      "execution_count": null,
      "outputs": []
    },
    {
      "metadata": {
        "trusted": true,
        "_uuid": "8fa0c8f025bbb2f72ae16679311554c174dd5ab6"
      },
      "cell_type": "code",
      "source": "X = X.as_matrix().astype(np.float)\ny = y.as_matrix().astype(np.float)",
      "execution_count": null,
      "outputs": []
    },
    {
      "metadata": {
        "trusted": true,
        "_uuid": "9ea480c23b5efbb623c8c722c3dd8f82efb63f4f",
        "scrolled": true
      },
      "cell_type": "code",
      "source": "df.apply(lambda x: sum(x.isnull()),axis=0)",
      "execution_count": null,
      "outputs": []
    },
    {
      "metadata": {
        "trusted": true,
        "_uuid": "39d0af4bf92751559274a180065c68a8bd01cc52"
      },
      "cell_type": "code",
      "source": "classifier = svm.SVR(kernel='linear') # We set a SVM classifier, the default SVM Classifier (Kernel = Radial Basis Function)",
      "execution_count": null,
      "outputs": []
    },
    {
      "metadata": {
        "trusted": true,
        "_uuid": "11e90545973cdda57c9cb2931eb7a0fa8cca70b5"
      },
      "cell_type": "code",
      "source": "lab_enc = preprocessing.LabelEncoder()\ntraining_scores_encoded = lab_enc.fit_transform(y_train)\nprint(training_scores_encoded)\nprint(utils.multiclass.type_of_target(y_train))\nprint(utils.multiclass.type_of_target(y_train.astype('int')))\nprint(utils.multiclass.type_of_target(training_scores_encoded))",
      "execution_count": null,
      "outputs": []
    },
    {
      "metadata": {
        "trusted": true,
        "_uuid": "126c19d4bab4ea52065d387ce1b731cab39e7fe5"
      },
      "cell_type": "code",
      "source": "classifier.fit(X_train, y_train) # Then we train our model, with our balanced data train.",
      "execution_count": null,
      "outputs": []
    },
    {
      "metadata": {
        "trusted": true,
        "_uuid": "89883ed800807ab4ac65e7479a2256d448c77c02"
      },
      "cell_type": "code",
      "source": "from sklearn.model_selection import train_test_split  \nX_train, X_test, y_train, y_test = train_test_split(X, y, test_size = 0.60) ",
      "execution_count": null,
      "outputs": []
    },
    {
      "metadata": {
        "trusted": true,
        "_uuid": "7c870825f7009853a5c4e374ef75e4a1fcdbf2a1"
      },
      "cell_type": "code",
      "source": "from sklearn.svm import SVR  \nsvclassifier = SVR(kernel='linear')  \nsvclassifier.fit(X_train, y_train) ",
      "execution_count": null,
      "outputs": []
    },
    {
      "metadata": {
        "trusted": true,
        "_uuid": "c422b1d1c6fe3395c239b236d510af335ba2f999"
      },
      "cell_type": "code",
      "source": "y_pred = svclassifier.predict(X_test) ",
      "execution_count": null,
      "outputs": []
    },
    {
      "metadata": {
        "trusted": true,
        "_uuid": "1d3b2237b33b5c46ad6bc91f2184d318c265e73b"
      },
      "cell_type": "code",
      "source": "from sklearn.ensemble import RandomForestClassifier, RandomForestRegressor, ExtraTreesRegressor, GradientBoostingRegressor\nclf = RandomForestRegressor(n_estimators=10)\nclf.fit(X_train, y_train)\ny_pred = clf.predict(X_test)\nprint('Accuracy Score:',clf.score(X_test, y_test) *100,\"%\")",
      "execution_count": null,
      "outputs": []
    },
    {
      "metadata": {
        "trusted": true,
        "_uuid": "a605f21dc61b3c4adc59d84c8e57a51e939adebe"
      },
      "cell_type": "code",
      "source": "y_test\n",
      "execution_count": null,
      "outputs": []
    },
    {
      "metadata": {
        "trusted": true,
        "_uuid": "0e79931c9e8fd2d7e38005d403b768cddc973f81"
      },
      "cell_type": "code",
      "source": "",
      "execution_count": null,
      "outputs": []
    }
  ],
  "metadata": {
    "kernelspec": {
      "display_name": "Python 3",
      "language": "python",
      "name": "python3"
    },
    "language_info": {
      "name": "python",
      "version": "3.6.6",
      "mimetype": "text/x-python",
      "codemirror_mode": {
        "name": "ipython",
        "version": 3
      },
      "pygments_lexer": "ipython3",
      "nbconvert_exporter": "python",
      "file_extension": ".py"
    }
  },
  "nbformat": 4,
  "nbformat_minor": 1
}